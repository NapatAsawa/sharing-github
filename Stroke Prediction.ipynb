{
 "cells": [
  {
   "cell_type": "markdown",
   "id": "26b27fb0",
   "metadata": {},
   "source": [
    "# Read Data"
   ]
  },
  {
   "cell_type": "code",
   "execution_count": null,
   "id": "f2e3b48c",
   "metadata": {},
   "outputs": [],
   "source": [
    "import pandas as pd\n",
    "import numpy as np\n",
    "import warnings\n",
    "warnings.filterwarnings('ignore')"
   ]
  },
  {
   "cell_type": "code",
   "execution_count": 2,
   "id": "7a9541cd",
   "metadata": {},
   "outputs": [],
   "source": [
    "df = pd.read_csv(\"stroke.csv\")"
   ]
  },
  {
   "cell_type": "code",
   "execution_count": 3,
   "id": "096269ec",
   "metadata": {},
   "outputs": [
    {
     "data": {
      "text/html": [
       "<div>\n",
       "<style scoped>\n",
       "    .dataframe tbody tr th:only-of-type {\n",
       "        vertical-align: middle;\n",
       "    }\n",
       "\n",
       "    .dataframe tbody tr th {\n",
       "        vertical-align: top;\n",
       "    }\n",
       "\n",
       "    .dataframe thead th {\n",
       "        text-align: right;\n",
       "    }\n",
       "</style>\n",
       "<table border=\"1\" class=\"dataframe\">\n",
       "  <thead>\n",
       "    <tr style=\"text-align: right;\">\n",
       "      <th></th>\n",
       "      <th>id</th>\n",
       "      <th>gender</th>\n",
       "      <th>age</th>\n",
       "      <th>hypertension</th>\n",
       "      <th>heart_disease</th>\n",
       "      <th>ever_married</th>\n",
       "      <th>Residence_type</th>\n",
       "      <th>avg_glucose_level</th>\n",
       "      <th>bmi</th>\n",
       "      <th>smoking_status</th>\n",
       "      <th>stroke</th>\n",
       "      <th>work_type_Govt_job</th>\n",
       "      <th>work_type_Never_worked</th>\n",
       "      <th>work_type_Private</th>\n",
       "      <th>work_type_Self-employed</th>\n",
       "      <th>work_type_children</th>\n",
       "    </tr>\n",
       "  </thead>\n",
       "  <tbody>\n",
       "    <tr>\n",
       "      <th>0</th>\n",
       "      <td>9046</td>\n",
       "      <td>1</td>\n",
       "      <td>67</td>\n",
       "      <td>0</td>\n",
       "      <td>1</td>\n",
       "      <td>1</td>\n",
       "      <td>1</td>\n",
       "      <td>228.69</td>\n",
       "      <td>36.6</td>\n",
       "      <td>1</td>\n",
       "      <td>1</td>\n",
       "      <td>0</td>\n",
       "      <td>0</td>\n",
       "      <td>1</td>\n",
       "      <td>0</td>\n",
       "      <td>0</td>\n",
       "    </tr>\n",
       "    <tr>\n",
       "      <th>1</th>\n",
       "      <td>31112</td>\n",
       "      <td>1</td>\n",
       "      <td>80</td>\n",
       "      <td>0</td>\n",
       "      <td>1</td>\n",
       "      <td>1</td>\n",
       "      <td>0</td>\n",
       "      <td>105.92</td>\n",
       "      <td>32.5</td>\n",
       "      <td>0</td>\n",
       "      <td>1</td>\n",
       "      <td>0</td>\n",
       "      <td>0</td>\n",
       "      <td>1</td>\n",
       "      <td>0</td>\n",
       "      <td>0</td>\n",
       "    </tr>\n",
       "    <tr>\n",
       "      <th>2</th>\n",
       "      <td>60182</td>\n",
       "      <td>0</td>\n",
       "      <td>49</td>\n",
       "      <td>0</td>\n",
       "      <td>0</td>\n",
       "      <td>1</td>\n",
       "      <td>1</td>\n",
       "      <td>171.23</td>\n",
       "      <td>34.4</td>\n",
       "      <td>2</td>\n",
       "      <td>1</td>\n",
       "      <td>0</td>\n",
       "      <td>0</td>\n",
       "      <td>1</td>\n",
       "      <td>0</td>\n",
       "      <td>0</td>\n",
       "    </tr>\n",
       "    <tr>\n",
       "      <th>3</th>\n",
       "      <td>1665</td>\n",
       "      <td>0</td>\n",
       "      <td>79</td>\n",
       "      <td>1</td>\n",
       "      <td>0</td>\n",
       "      <td>1</td>\n",
       "      <td>0</td>\n",
       "      <td>174.12</td>\n",
       "      <td>24.0</td>\n",
       "      <td>0</td>\n",
       "      <td>1</td>\n",
       "      <td>0</td>\n",
       "      <td>0</td>\n",
       "      <td>0</td>\n",
       "      <td>1</td>\n",
       "      <td>0</td>\n",
       "    </tr>\n",
       "    <tr>\n",
       "      <th>4</th>\n",
       "      <td>56669</td>\n",
       "      <td>1</td>\n",
       "      <td>81</td>\n",
       "      <td>0</td>\n",
       "      <td>0</td>\n",
       "      <td>1</td>\n",
       "      <td>1</td>\n",
       "      <td>186.21</td>\n",
       "      <td>29.0</td>\n",
       "      <td>1</td>\n",
       "      <td>1</td>\n",
       "      <td>0</td>\n",
       "      <td>0</td>\n",
       "      <td>1</td>\n",
       "      <td>0</td>\n",
       "      <td>0</td>\n",
       "    </tr>\n",
       "  </tbody>\n",
       "</table>\n",
       "</div>"
      ],
      "text/plain": [
       "      id  gender  age  hypertension  heart_disease  ever_married  \\\n",
       "0   9046       1   67             0              1             1   \n",
       "1  31112       1   80             0              1             1   \n",
       "2  60182       0   49             0              0             1   \n",
       "3   1665       0   79             1              0             1   \n",
       "4  56669       1   81             0              0             1   \n",
       "\n",
       "   Residence_type  avg_glucose_level   bmi  smoking_status  stroke  \\\n",
       "0               1             228.69  36.6               1       1   \n",
       "1               0             105.92  32.5               0       1   \n",
       "2               1             171.23  34.4               2       1   \n",
       "3               0             174.12  24.0               0       1   \n",
       "4               1             186.21  29.0               1       1   \n",
       "\n",
       "   work_type_Govt_job  work_type_Never_worked  work_type_Private  \\\n",
       "0                   0                       0                  1   \n",
       "1                   0                       0                  1   \n",
       "2                   0                       0                  1   \n",
       "3                   0                       0                  0   \n",
       "4                   0                       0                  1   \n",
       "\n",
       "   work_type_Self-employed  work_type_children  \n",
       "0                        0                   0  \n",
       "1                        0                   0  \n",
       "2                        0                   0  \n",
       "3                        1                   0  \n",
       "4                        0                   0  "
      ]
     },
     "execution_count": 3,
     "metadata": {},
     "output_type": "execute_result"
    }
   ],
   "source": [
    "df.head(5)"
   ]
  },
  {
   "cell_type": "markdown",
   "id": "25435c58",
   "metadata": {},
   "source": [
    "#  Train-Test Split"
   ]
  },
  {
   "cell_type": "code",
   "execution_count": 4,
   "id": "bfcb2d61",
   "metadata": {},
   "outputs": [],
   "source": [
    "from sklearn.model_selection import train_test_split\n",
    "x_col = [ 'gender', 'age', 'hypertension', 'heart_disease', 'ever_married',\n",
    "       'Residence_type', 'avg_glucose_level', 'bmi', 'smoking_status',\n",
    "        'work_type_Govt_job', 'work_type_Never_worked',\n",
    "       'work_type_Private', 'work_type_Self-employed', 'work_type_children']\n",
    "y_col = 'stroke'\n",
    "\n",
    "X_train, X_test, Y_train, Y_test = train_test_split(df[x_col],df[[y_col]], random_state=0)"
   ]
  },
  {
   "cell_type": "markdown",
   "id": "62048141",
   "metadata": {},
   "source": [
    "# Naive bayes"
   ]
  },
  {
   "cell_type": "code",
   "execution_count": 5,
   "id": "c242f96c",
   "metadata": {},
   "outputs": [
    {
     "data": {
      "text/plain": [
       "GaussianNB()"
      ]
     },
     "execution_count": 5,
     "metadata": {},
     "output_type": "execute_result"
    }
   ],
   "source": [
    "from sklearn.naive_bayes import GaussianNB\n",
    "from imblearn.over_sampling import SMOTE\n",
    "\n",
    "nb = GaussianNB()\n",
    "smote = SMOTE(random_state = 0)\n",
    "X_train_new, Y_train_new = smote.fit_resample(X_train,Y_train)\n",
    "nb.fit(X_train_new, Y_train_new)"
   ]
  },
  {
   "cell_type": "code",
   "execution_count": 6,
   "id": "cd25f631",
   "metadata": {},
   "outputs": [
    {
     "name": "stdout",
     "output_type": "stream",
     "text": [
      "              precision    recall  f1-score   support\n",
      "\n",
      "           0       0.97      0.22      0.36       817\n",
      "           1       0.05      0.88      0.10        40\n",
      "\n",
      "    accuracy                           0.25       857\n",
      "   macro avg       0.51      0.55      0.23       857\n",
      "weighted avg       0.93      0.25      0.35       857\n",
      "\n"
     ]
    }
   ],
   "source": [
    "from sklearn.metrics import classification_report\n",
    "\n",
    "y_pred = nb.predict(X_test)\n",
    "\n",
    "nb_report = classification_report(Y_test, y_pred)\n",
    "print(nb_report)"
   ]
  },
  {
   "cell_type": "markdown",
   "id": "6b3e203e",
   "metadata": {},
   "source": [
    "# Logistic Regression"
   ]
  },
  {
   "cell_type": "code",
   "execution_count": 7,
   "id": "8c241f81",
   "metadata": {},
   "outputs": [],
   "source": [
    "from sklearn.linear_model import LogisticRegression\n",
    "from sklearn.model_selection import GridSearchCV\n",
    "from sklearn.metrics import f1_score, make_scorer\n",
    "from imblearn.pipeline import Pipeline\n",
    "from imblearn.over_sampling import SMOTE"
   ]
  },
  {
   "cell_type": "markdown",
   "id": "eae738f2",
   "metadata": {},
   "source": [
    "## class weight"
   ]
  },
  {
   "cell_type": "code",
   "execution_count": 8,
   "id": "f00507ab",
   "metadata": {},
   "outputs": [
    {
     "data": {
      "text/plain": [
       "GridSearchCV(cv=10,\n",
       "             estimator=LogisticRegression(class_weight='balanced',\n",
       "                                          random_state=0),\n",
       "             param_grid={'C': [0.001, 0.01, 0.1, 1, 10, 100],\n",
       "                         'penalty': ['l1', 'l2']},\n",
       "             scoring=make_scorer(f1_score, pos_label=1))"
      ]
     },
     "execution_count": 8,
     "metadata": {},
     "output_type": "execute_result"
    }
   ],
   "source": [
    "scorer = make_scorer(f1_score, greater_is_better=True,  pos_label=1)\n",
    "param_grid={'C': [0.001, 0.01, 0.1, 1, 10, 100],\n",
    "                         'penalty': ['l1', 'l2']}\n",
    "\n",
    "log_model = LogisticRegression(class_weight='balanced', random_state=0)\n",
    "log_grid = GridSearchCV(log_model, param_grid=param_grid, cv = 10, refit=True, scoring= scorer)\n",
    "log_grid.fit(X_train, Y_train)"
   ]
  },
  {
   "cell_type": "markdown",
   "id": "b9f25940",
   "metadata": {},
   "source": [
    "## smote"
   ]
  },
  {
   "cell_type": "code",
   "execution_count": 9,
   "id": "b23574c2",
   "metadata": {},
   "outputs": [
    {
     "data": {
      "text/plain": [
       "GridSearchCV(cv=10,\n",
       "             estimator=Pipeline(steps=[('sampling', SMOTE()),\n",
       "                                       ('classification',\n",
       "                                        LogisticRegression(random_state=0))]),\n",
       "             param_grid={'classification__C': [0.001, 0.01, 0.1, 1, 10, 100],\n",
       "                         'classification__penalty': ['l1', 'l2']},\n",
       "             scoring=make_scorer(f1_score, pos_label=1))"
      ]
     },
     "execution_count": 9,
     "metadata": {},
     "output_type": "execute_result"
    }
   ],
   "source": [
    "scorer = make_scorer(f1_score, greater_is_better=True,  pos_label=1)\n",
    "param_grid={'classification__C': [0.001, 0.01, 0.1, 1, 10, 100],\n",
    "                         'classification__penalty': ['l1', 'l2']}\n",
    "\n",
    "model = LogisticRegression(random_state=0)\n",
    "log_model = Pipeline([\n",
    "        ('sampling', SMOTE()),\n",
    "        ('classification', model)\n",
    "    ])\n",
    "\n",
    "log_smote_grid = GridSearchCV(log_model, param_grid=param_grid, cv = 10, refit=True, scoring=scorer)\n",
    "log_smote_grid.fit(X_train, Y_train)"
   ]
  },
  {
   "cell_type": "markdown",
   "id": "2e1d6749",
   "metadata": {},
   "source": [
    "# Decision Tree"
   ]
  },
  {
   "cell_type": "code",
   "execution_count": 10,
   "id": "3303daf6",
   "metadata": {},
   "outputs": [],
   "source": [
    "from sklearn.model_selection import GridSearchCV\n",
    "from sklearn.tree import DecisionTreeClassifier\n",
    "from sklearn.metrics import f1_score, make_scorer\n",
    "from imblearn.pipeline import Pipeline\n",
    "from imblearn.over_sampling import SMOTE"
   ]
  },
  {
   "cell_type": "markdown",
   "id": "5334830e",
   "metadata": {},
   "source": [
    "## class weight"
   ]
  },
  {
   "cell_type": "code",
   "execution_count": 11,
   "id": "07e5c556",
   "metadata": {},
   "outputs": [
    {
     "data": {
      "text/plain": [
       "GridSearchCV(cv=10,\n",
       "             estimator=DecisionTreeClassifier(class_weight='balanced',\n",
       "                                              random_state=0),\n",
       "             param_grid={'max_depth': [1, 2, 3, 4, 5, 6, 7, 8, 9, 10, 11, 12,\n",
       "                                       13, 14, 15, 16, 17, 18, 19]},\n",
       "             scoring=make_scorer(f1_score, pos_label=1))"
      ]
     },
     "execution_count": 11,
     "metadata": {},
     "output_type": "execute_result"
    }
   ],
   "source": [
    "depth =list(range(1, 20))\n",
    "\n",
    "scorer = make_scorer(f1_score, greater_is_better=True,  pos_label=1)\n",
    "param_grid = {\"max_depth\":depth}\n",
    "\n",
    "tree_model = DecisionTreeClassifier(class_weight=\"balanced\",random_state = 0)\n",
    "tree_grid = GridSearchCV(tree_model, param_grid=param_grid, cv = 10, refit=True, scoring=scorer)\n",
    "tree_grid.fit(X_train, Y_train)"
   ]
  },
  {
   "cell_type": "markdown",
   "id": "d99051fe",
   "metadata": {},
   "source": [
    "## smote"
   ]
  },
  {
   "cell_type": "code",
   "execution_count": 12,
   "id": "898026b4",
   "metadata": {},
   "outputs": [
    {
     "data": {
      "text/plain": [
       "GridSearchCV(cv=10,\n",
       "             estimator=Pipeline(steps=[('sampling', SMOTE()),\n",
       "                                       ('classification',\n",
       "                                        DecisionTreeClassifier(class_weight='balanced',\n",
       "                                                               random_state=0))]),\n",
       "             param_grid={'classification__max_depth': [1, 2, 3, 4, 5, 6, 7, 8,\n",
       "                                                       9, 10, 11, 12, 13, 14]},\n",
       "             scoring=make_scorer(f1_score, pos_label=1))"
      ]
     },
     "execution_count": 12,
     "metadata": {},
     "output_type": "execute_result"
    }
   ],
   "source": [
    "depth =list(range(1,15))\n",
    "\n",
    "scorer = make_scorer(f1_score, greater_is_better=True,  pos_label=1)\n",
    "param_grid = {\"classification__max_depth\":depth}\n",
    "\n",
    "model = DecisionTreeClassifier(class_weight=\"balanced\",random_state = 0)\n",
    "tree_model = Pipeline([\n",
    "        ('sampling', SMOTE()),\n",
    "        ('classification', model)\n",
    "    ])\n",
    "\n",
    "tree_smote_grid = GridSearchCV(tree_model, param_grid=param_grid, cv = 10, refit=True, scoring=scorer)\n",
    "tree_smote_grid.fit(X_train, Y_train)"
   ]
  },
  {
   "cell_type": "markdown",
   "id": "025f9c71",
   "metadata": {},
   "source": [
    "# Evaluation"
   ]
  },
  {
   "cell_type": "markdown",
   "id": "a548ae88",
   "metadata": {},
   "source": [
    "## Precision Recall Curve"
   ]
  },
  {
   "cell_type": "code",
   "execution_count": 13,
   "id": "11b39c6a",
   "metadata": {},
   "outputs": [],
   "source": [
    "model_lst = [nb, log_grid, tree_grid, log_smote_grid, tree_smote_grid, ]\n",
    "probs_lst = []\n",
    "\n",
    "for i in range(len(model_lst)):\n",
    "    probs = model_lst[i].predict_proba(X_test)\n",
    "    probs = probs[:, 1]\n",
    "    probs_lst.append(probs)"
   ]
  },
  {
   "cell_type": "code",
   "execution_count": 14,
   "id": "ba4bd7e3",
   "metadata": {},
   "outputs": [],
   "source": [
    "from sklearn.metrics import precision_recall_curve\n",
    "from sklearn.metrics import auc\n",
    "import numpy as np\n",
    "auc_lst = []\n",
    "precision_lst = []\n",
    "recall_lst = []\n",
    "\n",
    "for i in range(len(probs_lst)):\n",
    "    precision, recall, _ = precision_recall_curve(Y_test, probs_lst[i], pos_label=1)\n",
    "    precision_lst.append(precision)\n",
    "    recall_lst.append(recall)\n",
    "    \n",
    "    auc_score = auc(recall, precision)\n",
    "    auc_lst.append(auc_score)"
   ]
  },
  {
   "cell_type": "code",
   "execution_count": 16,
   "id": "82b83c67",
   "metadata": {},
   "outputs": [
    {
     "data": {
      "image/png": "[encoded data removed]",
      "text/plain": [
       "<Figure size 864x576 with 1 Axes>"
      ]
     },
     "metadata": {
      "needs_background": "light"
     },
     "output_type": "display_data"
    }
   ],
   "source": [
    "import matplotlib.pyplot as plt\n",
    "model_name = [\"Naive Bayes with smote\",\n",
    "              \"Logistic Regression  with class weight\",\n",
    "              \"Decision tree with class weight\",\n",
    "              \"Logistic Regression  with smote\",\n",
    "              \"Decision tree with smote\"]\n",
    "\n",
    "plt.figure(figsize=(12,8))\n",
    "for i in range(len(model_name)):\n",
    "    plt.plot(recall_lst[i], precision_lst[i], marker='.', label= model_name[i] + \"  (AUC = %0.2f)\"  % auc_lst[i])\n",
    "\n",
    "\n",
    "# Title\n",
    "plt.title('ROC Plot')\n",
    "# Axis labels\n",
    "plt.xlabel('Recall Rate')\n",
    "plt.ylabel('Precision Rate')\n",
    "# Show legend\n",
    "plt.legend() # \n",
    "# Show plot\n",
    "plt.show()"
   ]
  },
  {
   "cell_type": "markdown",
   "id": "67662518",
   "metadata": {},
   "source": [
    "Logistic Regression  with smote has the highest area under the curve of precision-recall curve."
   ]
  },
  {
   "cell_type": "markdown",
   "id": "ed8a7939",
   "metadata": {},
   "source": [
    "## classification report"
   ]
  },
  {
   "cell_type": "code",
   "execution_count": 19,
   "id": "c8d4a817",
   "metadata": {},
   "outputs": [
    {
     "name": "stdout",
     "output_type": "stream",
     "text": [
      "              precision    recall  f1-score   support\n",
      "\n",
      "           0       0.98      0.73      0.84       817\n",
      "           1       0.12      0.72      0.20        40\n",
      "\n",
      "    accuracy                           0.73       857\n",
      "   macro avg       0.55      0.73      0.52       857\n",
      "weighted avg       0.94      0.73      0.81       857\n",
      "\n"
     ]
    }
   ],
   "source": [
    "y_pred = log_smote_grid.predict(X_test)\n",
    "\n",
    "report = classification_report(Y_test, y_pred)\n",
    "print(report)"
   ]
  }
 ],
 "metadata": {
  "kernelspec": {
   "display_name": "Python 3 (ipykernel)",
   "language": "python",
   "name": "python3"
  },
  "language_info": {
   "codemirror_mode": {
    "name": "ipython",
    "version": 3
   },
   "file_extension": ".py",
   "mimetype": "text/x-python",
   "name": "python",
   "nbconvert_exporter": "python",
   "pygments_lexer": "ipython3",
   "version": "3.9.7"
  }
 },
 "nbformat": 4,
 "nbformat_minor": 5
}
